{
 "metadata": {
  "name": ""
 },
 "nbformat": 3,
 "nbformat_minor": 0,
 "worksheets": [
  {
   "cells": [
    {
     "cell_type": "heading",
     "level": 4,
     "metadata": {},
     "source": [
      "Loading essential libraries"
     ]
    },
    {
     "cell_type": "code",
     "collapsed": false,
     "input": [
      "import glob, os, csv\n",
      "import matplotlib.pyplot as plt\n",
      "%matplotlib inline\n",
      "import numpy as np\n",
      "import pandas as pd\n",
      "from pandas import Series, DataFrame"
     ],
     "language": "python",
     "metadata": {},
     "outputs": [],
     "prompt_number": 1
    },
    {
     "cell_type": "heading",
     "level": 3,
     "metadata": {},
     "source": [
      "Understanding Input Data File"
     ]
    },
    {
     "cell_type": "heading",
     "level": 4,
     "metadata": {},
     "source": [
      "Load training data of user7 and save as a dataframe.\n",
      "Check columns and unique values which has values of type string"
     ]
    },
    {
     "cell_type": "code",
     "collapsed": false,
     "input": [
      "path_user7 = '/home/venus/Desktop/Mouse-Dynamics-Challenge/training_files/user7'\n",
      "os.chdir(path_user7)\n",
      "df_list = []\n",
      "csv_file = glob.glob(\"session_*\")[0]\n",
      "print(\"Checking details for session file: \" + csv_file)\n",
      "df = pd.read_csv(csv_file, index_col=None, header=0)\n",
      "print(\"_\"*100)\n",
      "print(\"Header fields\")\n",
      "print(df.columns.tolist())\n",
      "print(\"_\"*100)\n",
      "print(\"String values in column \\\"button\\\"\")\n",
      "print(df.button.unique())\n",
      "print(\"String values in column \\\"state\\\"\")\n",
      "print(df.state.unique())\n",
      "print(\"_\"*100)\n",
      "# print(df.describe(include = \"all\"))\n",
      "print(df.head(10))"
     ],
     "language": "python",
     "metadata": {},
     "outputs": [
      {
       "output_type": "stream",
       "stream": "stdout",
       "text": [
        "Checking details for session file: session_3320405034\n",
        "____________________________________________________________________________________________________"
       ]
      },
      {
       "output_type": "stream",
       "stream": "stdout",
       "text": [
        "\n",
        "Header fields\n",
        "['record timestamp', 'client timestamp', 'button', 'state', 'x', 'y']\n",
        "____________________________________________________________________________________________________\n",
        "String values in column \"button\"\n",
        "['NoButton' 'Left' 'Right' 'Scroll']\n",
        "String values in column \"state\"\n",
        "['Move' 'Pressed' 'Released' 'Drag' 'Up' 'Down']\n",
        "____________________________________________________________________________________________________\n",
        "   record timestamp  client timestamp    button     state   x    y\n",
        "0             0.000             0.000  NoButton      Move  88  551\n",
        "1             0.264             0.015  NoButton      Move  86  551\n",
        "2             0.265             0.031  NoButton      Move  85  551\n",
        "3             0.265             0.047  NoButton      Move  84  551\n",
        "4             0.265             0.078  NoButton      Move  82  552\n",
        "5             0.265             0.265      Left   Pressed  82  552\n",
        "6             0.358             0.359      Left  Released  82  552\n",
        "7             0.436             0.437      Left   Pressed  82  552\n",
        "8             0.528             0.530      Left  Released  82  552\n",
        "9             0.656             0.655  NoButton      Move  86  552\n"
       ]
      }
     ],
     "prompt_number": 11
    },
    {
     "cell_type": "heading",
     "level": 4,
     "metadata": {},
     "source": [
      "Mapping columns with string fields to integer values"
     ]
    },
    {
     "cell_type": "code",
     "collapsed": false,
     "input": [
      "di = {'NoButton': 0, 'Left': 1, 'Right': 2, 'Scroll' : 3}\n",
      "dj = {'Move': 0, 'Pressed': 1, 'Released' : 2, 'Drag' : 3, 'Up' : 4, 'Down' : 5}\n",
      "df[\"button\"].replace(di, inplace=True)\n",
      "df[\"state\"].replace(dj, inplace=True)\n",
      "print(df.head(10))\n",
      "# print(df.describe())"
     ],
     "language": "python",
     "metadata": {},
     "outputs": [
      {
       "output_type": "stream",
       "stream": "stdout",
       "text": [
        "   record timestamp  client timestamp  button  state   x    y\n",
        "0             0.000             0.000       0      0  88  551\n",
        "1             0.264             0.015       0      0  86  551\n",
        "2             0.265             0.031       0      0  85  551\n",
        "3             0.265             0.047       0      0  84  551\n",
        "4             0.265             0.078       0      0  82  552\n",
        "5             0.265             0.265       1      1  82  552\n",
        "6             0.358             0.359       1      2  82  552\n",
        "7             0.436             0.437       1      1  82  552\n",
        "8             0.528             0.530       1      2  82  552\n",
        "9             0.656             0.655       0      0  86  552\n"
       ]
      }
     ],
     "prompt_number": 12
    },
    {
     "cell_type": "heading",
     "level": 3,
     "metadata": {},
     "source": [
      "Feature Extraction"
     ]
    },
    {
     "cell_type": "heading",
     "level": 4,
     "metadata": {},
     "source": [
      "Sort data according to column 'client timestamp' then calculate time taken between mouse movements, speed of mouse movements, curvature and radius of curvature"
     ]
    },
    {
     "cell_type": "markdown",
     "metadata": {},
     "source": [
      "Features identified :\n",
      "1. time between mouse movements\n",
      "2. mouse speed\n",
      "3. mouse movement arc curvature\n",
      "4. frequency of  mouse clicks"
     ]
    },
    {
     "cell_type": "code",
     "collapsed": false,
     "input": [
      "df.sort_values(\"client timestamp\")\n",
      "df.insert(0, \"Serial_no\", range(0,len(df.index.values)))\n",
      "df[\"delta_client_time\"] = df[\"client timestamp\"].diff(-1)\n",
      "df[\"delta_client_time\"] = df[\"delta_client_time\"].abs()\n",
      "df[\"delta_x\"] = df[\"x\"].diff(-1)\n",
      "df[\"delta_y\"] = df[\"y\"].diff(-1)\n",
      "df[\"delta_dist\"] = np.sqrt( (df[\"delta_x\"])**2 + (df[\"delta_y\"])**2 )\n",
      "df[\"mouse_speed\"] = df[\"delta_dist\"] / df[\"delta_client_time\"]\n",
      "df[\"mouse_speed\"] = df[\"mouse_speed\"].abs()\n",
      "df[\"slope\"] = df[\"delta_y\"] / df[\"delta_x\"]\n",
      "df[\"delta_slope\"] = df[\"slope\"].diff(-1)\n",
      "df[\"curvature\"] = df[\"delta_slope\"] / df[\"delta_x\"]\n",
      "df[\"curvature\"] = df[\"curvature\"].abs()\n",
      "# df[\"radius_of_curvature\"] = 1 / df[\"curvature\"]"
     ],
     "language": "python",
     "metadata": {},
     "outputs": [],
     "prompt_number": 13
    },
    {
     "cell_type": "markdown",
     "metadata": {},
     "source": [
      "Note: The curvature is important as if it has many values as zero, it means the mouse is moving in a perfectly straight line for longer periods, which is more likely a bot like behavior."
     ]
    },
    {
     "cell_type": "heading",
     "level": 4,
     "metadata": {},
     "source": [
      "Frequency of mouse clicks varying with client timestamp"
     ]
    },
    {
     "cell_type": "code",
     "collapsed": false,
     "input": [
      "df[\"clicks_so_far\"] = 0\n",
      "clicks_so_far = []\n",
      "for index, row in df.iterrows():\n",
      "    if index != 0:\n",
      "        clicks_so_far.append(clicks_so_far[-1] + (1 if row[\"button\"] != 0 else 0))\n",
      "    else:\n",
      "        clicks_so_far.append(1 if row[\"button\"] != 0 else 0)\n",
      "df['clicks_so_far'] = clicks_so_far\n",
      "df['click_frequency'] = df['clicks_so_far'] / df['client timestamp'] "
     ],
     "language": "python",
     "metadata": {},
     "outputs": [],
     "prompt_number": 14
    },
    {
     "cell_type": "code",
     "collapsed": false,
     "input": [
      "df1 = df.dropna()\n",
      "df1.describe()"
     ],
     "language": "python",
     "metadata": {},
     "outputs": [
      {
       "html": [
        "<div style=\"max-width:1500px;overflow:auto;\">\n",
        "<style>\n",
        "    .dataframe thead tr:only-child th {\n",
        "        text-align: right;\n",
        "    }\n",
        "\n",
        "    .dataframe thead th {\n",
        "        text-align: left;\n",
        "    }\n",
        "\n",
        "    .dataframe tbody tr th {\n",
        "        vertical-align: top;\n",
        "    }\n",
        "</style>\n",
        "<table border=\"1\" class=\"dataframe\">\n",
        "  <thead>\n",
        "    <tr style=\"text-align: right;\">\n",
        "      <th></th>\n",
        "      <th>Serial_no</th>\n",
        "      <th>record timestamp</th>\n",
        "      <th>client timestamp</th>\n",
        "      <th>button</th>\n",
        "      <th>state</th>\n",
        "      <th>x</th>\n",
        "      <th>y</th>\n",
        "      <th>delta_client_time</th>\n",
        "      <th>delta_x</th>\n",
        "      <th>delta_y</th>\n",
        "      <th>delta_dist</th>\n",
        "      <th>mouse_speed</th>\n",
        "      <th>slope</th>\n",
        "      <th>delta_slope</th>\n",
        "      <th>curvature</th>\n",
        "      <th>clicks_so_far</th>\n",
        "      <th>click_frequency</th>\n",
        "    </tr>\n",
        "  </thead>\n",
        "  <tbody>\n",
        "    <tr>\n",
        "      <th>count</th>\n",
        "      <td>57922.000000</td>\n",
        "      <td>57922.000000</td>\n",
        "      <td>57922.000000</td>\n",
        "      <td>57922.000000</td>\n",
        "      <td>57922.000000</td>\n",
        "      <td>57922.000000</td>\n",
        "      <td>57922.000000</td>\n",
        "      <td>57922.000000</td>\n",
        "      <td>57922.000000</td>\n",
        "      <td>57922.000000</td>\n",
        "      <td>57922.000000</td>\n",
        "      <td>5.792200e+04</td>\n",
        "      <td>5.792200e+04</td>\n",
        "      <td>5.792200e+04</td>\n",
        "      <td>5.792200e+04</td>\n",
        "      <td>57922.000000</td>\n",
        "      <td>57922.000000</td>\n",
        "    </tr>\n",
        "    <tr>\n",
        "      <th>mean</th>\n",
        "      <td>34896.430665</td>\n",
        "      <td>3976.687081</td>\n",
        "      <td>3976.639463</td>\n",
        "      <td>0.033113</td>\n",
        "      <td>0.158351</td>\n",
        "      <td>316.150565</td>\n",
        "      <td>378.097528</td>\n",
        "      <td>0.096628</td>\n",
        "      <td>-1.285919</td>\n",
        "      <td>-1.708435</td>\n",
        "      <td>14.982109</td>\n",
        "      <td>inf</td>\n",
        "      <td>NaN</td>\n",
        "      <td>NaN</td>\n",
        "      <td>inf</td>\n",
        "      <td>3557.272418</td>\n",
        "      <td>0.815723</td>\n",
        "    </tr>\n",
        "    <tr>\n",
        "      <th>std</th>\n",
        "      <td>20393.032164</td>\n",
        "      <td>2246.206606</td>\n",
        "      <td>2246.218239</td>\n",
        "      <td>0.262874</td>\n",
        "      <td>0.685071</td>\n",
        "      <td>205.671688</td>\n",
        "      <td>208.662934</td>\n",
        "      <td>5.534617</td>\n",
        "      <td>34.882443</td>\n",
        "      <td>45.359945</td>\n",
        "      <td>55.266756</td>\n",
        "      <td>NaN</td>\n",
        "      <td>NaN</td>\n",
        "      <td>NaN</td>\n",
        "      <td>NaN</td>\n",
        "      <td>2290.131525</td>\n",
        "      <td>0.267765</td>\n",
        "    </tr>\n",
        "    <tr>\n",
        "      <th>min</th>\n",
        "      <td>1.000000</td>\n",
        "      <td>0.264000</td>\n",
        "      <td>0.015000</td>\n",
        "      <td>0.000000</td>\n",
        "      <td>0.000000</td>\n",
        "      <td>0.000000</td>\n",
        "      <td>0.000000</td>\n",
        "      <td>0.000000</td>\n",
        "      <td>-1219.000000</td>\n",
        "      <td>-774.000000</td>\n",
        "      <td>1.000000</td>\n",
        "      <td>1.035583e-02</td>\n",
        "      <td>-inf</td>\n",
        "      <td>-inf</td>\n",
        "      <td>0.000000e+00</td>\n",
        "      <td>0.000000</td>\n",
        "      <td>0.000000</td>\n",
        "    </tr>\n",
        "    <tr>\n",
        "      <th>25%</th>\n",
        "      <td>17359.250000</td>\n",
        "      <td>2433.316000</td>\n",
        "      <td>2433.276000</td>\n",
        "      <td>0.000000</td>\n",
        "      <td>0.000000</td>\n",
        "      <td>192.000000</td>\n",
        "      <td>208.000000</td>\n",
        "      <td>0.015000</td>\n",
        "      <td>-3.000000</td>\n",
        "      <td>-2.000000</td>\n",
        "      <td>2.236068</td>\n",
        "      <td>1.250000e+02</td>\n",
        "      <td>-1.000000e+00</td>\n",
        "      <td>-4.000000e-01</td>\n",
        "      <td>5.456473e-03</td>\n",
        "      <td>1726.000000</td>\n",
        "      <td>0.716535</td>\n",
        "    </tr>\n",
        "    <tr>\n",
        "      <th>50%</th>\n",
        "      <td>34313.500000</td>\n",
        "      <td>3533.022000</td>\n",
        "      <td>3532.946500</td>\n",
        "      <td>0.000000</td>\n",
        "      <td>0.000000</td>\n",
        "      <td>272.000000</td>\n",
        "      <td>372.000000</td>\n",
        "      <td>0.016000</td>\n",
        "      <td>0.000000</td>\n",
        "      <td>0.000000</td>\n",
        "      <td>5.099020</td>\n",
        "      <td>3.060269e+02</td>\n",
        "      <td>0.000000e+00</td>\n",
        "      <td>0.000000e+00</td>\n",
        "      <td>8.333333e-02</td>\n",
        "      <td>2978.000000</td>\n",
        "      <td>0.847639</td>\n",
        "    </tr>\n",
        "    <tr>\n",
        "      <th>75%</th>\n",
        "      <td>52865.250000</td>\n",
        "      <td>5203.674000</td>\n",
        "      <td>5203.620250</td>\n",
        "      <td>0.000000</td>\n",
        "      <td>0.000000</td>\n",
        "      <td>378.000000</td>\n",
        "      <td>531.000000</td>\n",
        "      <td>0.016000</td>\n",
        "      <td>3.000000</td>\n",
        "      <td>2.000000</td>\n",
        "      <td>12.206556</td>\n",
        "      <td>7.525997e+02</td>\n",
        "      <td>7.500000e-01</td>\n",
        "      <td>3.746843e-01</td>\n",
        "      <td>1.000000e+00</td>\n",
        "      <td>5875.000000</td>\n",
        "      <td>0.900714</td>\n",
        "    </tr>\n",
        "    <tr>\n",
        "      <th>max</th>\n",
        "      <td>69827.000000</td>\n",
        "      <td>7806.633000</td>\n",
        "      <td>7806.649000</td>\n",
        "      <td>3.000000</td>\n",
        "      <td>5.000000</td>\n",
        "      <td>1279.000000</td>\n",
        "      <td>799.000000</td>\n",
        "      <td>1169.493000</td>\n",
        "      <td>1222.000000</td>\n",
        "      <td>639.000000</td>\n",
        "      <td>1249.561923</td>\n",
        "      <td>inf</td>\n",
        "      <td>inf</td>\n",
        "      <td>inf</td>\n",
        "      <td>inf</td>\n",
        "      <td>7013.000000</td>\n",
        "      <td>7.547170</td>\n",
        "    </tr>\n",
        "  </tbody>\n",
        "</table>\n",
        "</div>"
       ],
       "metadata": {},
       "output_type": "pyout",
       "prompt_number": 22,
       "text": [
        "          Serial_no  record timestamp  client timestamp        button  \\\n",
        "count  57922.000000      57922.000000      57922.000000  57922.000000   \n",
        "mean   34896.430665       3976.687081       3976.639463      0.033113   \n",
        "std    20393.032164       2246.206606       2246.218239      0.262874   \n",
        "min        1.000000          0.264000          0.015000      0.000000   \n",
        "25%    17359.250000       2433.316000       2433.276000      0.000000   \n",
        "50%    34313.500000       3533.022000       3532.946500      0.000000   \n",
        "75%    52865.250000       5203.674000       5203.620250      0.000000   \n",
        "max    69827.000000       7806.633000       7806.649000      3.000000   \n",
        "\n",
        "              state             x             y  delta_client_time  \\\n",
        "count  57922.000000  57922.000000  57922.000000       57922.000000   \n",
        "mean       0.158351    316.150565    378.097528           0.096628   \n",
        "std        0.685071    205.671688    208.662934           5.534617   \n",
        "min        0.000000      0.000000      0.000000           0.000000   \n",
        "25%        0.000000    192.000000    208.000000           0.015000   \n",
        "50%        0.000000    272.000000    372.000000           0.016000   \n",
        "75%        0.000000    378.000000    531.000000           0.016000   \n",
        "max        5.000000   1279.000000    799.000000        1169.493000   \n",
        "\n",
        "            delta_x       delta_y    delta_dist   mouse_speed         slope  \\\n",
        "count  57922.000000  57922.000000  57922.000000  5.792200e+04  5.792200e+04   \n",
        "mean      -1.285919     -1.708435     14.982109           inf           NaN   \n",
        "std       34.882443     45.359945     55.266756           NaN           NaN   \n",
        "min    -1219.000000   -774.000000      1.000000  1.035583e-02          -inf   \n",
        "25%       -3.000000     -2.000000      2.236068  1.250000e+02 -1.000000e+00   \n",
        "50%        0.000000      0.000000      5.099020  3.060269e+02  0.000000e+00   \n",
        "75%        3.000000      2.000000     12.206556  7.525997e+02  7.500000e-01   \n",
        "max     1222.000000    639.000000   1249.561923           inf           inf   \n",
        "\n",
        "        delta_slope     curvature  clicks_so_far  click_frequency  \n",
        "count  5.792200e+04  5.792200e+04   57922.000000     57922.000000  \n",
        "mean            NaN           inf    3557.272418         0.815723  \n",
        "std             NaN           NaN    2290.131525         0.267765  \n",
        "min            -inf  0.000000e+00       0.000000         0.000000  \n",
        "25%   -4.000000e-01  5.456473e-03    1726.000000         0.716535  \n",
        "50%    0.000000e+00  8.333333e-02    2978.000000         0.847639  \n",
        "75%    3.746843e-01  1.000000e+00    5875.000000         0.900714  \n",
        "max             inf           inf    7013.000000         7.547170  "
       ]
      }
     ],
     "prompt_number": 22
    },
    {
     "cell_type": "heading",
     "level": 4,
     "metadata": {},
     "source": [
      "Visualizing features"
     ]
    },
    {
     "cell_type": "code",
     "collapsed": false,
     "input": [
      "plt.scatter(df1['client timestamp'], df1['click_frequency'])\n",
      "plt.title('Variation of Click Frequency with Client Timestamp')\n",
      "plt.ylabel('Click Frequency')\n",
      "plt.xlabel('Client Timestamp')\n",
      "plt.show()"
     ],
     "language": "python",
     "metadata": {},
     "outputs": [
      {
       "metadata": {},
       "output_type": "display_data",
       "png": "[encoded data removed]",
       "text": [
        "<matplotlib.figure.Figure at 0x7f81e50a8eb8>"
       ]
      }
     ],
     "prompt_number": 23
    },
    {
     "cell_type": "code",
     "collapsed": false,
     "input": [
      "plt.scatter(df1['client timestamp'], df1['mouse_speed'])\n",
      "plt.title('Variation of Mouse Speed with Client Timestamp')\n",
      "plt.xlabel('Client Timestamp')\n",
      "plt.ylabel('Mouse Speed')\n",
      "plt.show()"
     ],
     "language": "python",
     "metadata": {},
     "outputs": [
      {
       "metadata": {},
       "output_type": "display_data",
       "png": "[encoded data removed]",
       "text": [
        "<matplotlib.figure.Figure at 0x7f81e5135c18>"
       ]
      }
     ],
     "prompt_number": 25
    },
    {
     "cell_type": "code",
     "collapsed": false,
     "input": [
      "plt.scatter(df1['client timestamp'], df1['curvature'])\n",
      "plt.title('Variation of Curvature with Client Timestamp')\n",
      "plt.xlabel('Client Timestamp')\n",
      "plt.ylabel('Curvature')\n",
      "plt.show()"
     ],
     "language": "python",
     "metadata": {},
     "outputs": [
      {
       "metadata": {},
       "output_type": "display_data",
       "png": "[encoded data removed]",
       "text": [
        "<matplotlib.figure.Figure at 0x7f81e5158208>"
       ]
      }
     ],
     "prompt_number": 26
    }
   ],
   "metadata": {}
  }
 ]
}