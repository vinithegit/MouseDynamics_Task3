{
 "metadata": {
  "name": ""
 },
 "nbformat": 3,
 "nbformat_minor": 0,
 "worksheets": [
  {
   "cells": [
    {
     "cell_type": "heading",
     "level": 4,
     "metadata": {},
     "source": [
      "Loading essential libraries"
     ]
    },
    {
     "cell_type": "code",
     "collapsed": false,
     "input": [
      "import glob, os, csv\n",
      "import matplotlib.pyplot as plt\n",
      "%matplotlib inline\n",
      "import numpy as np\n",
      "import pandas as pd\n",
      "from pandas import Series, DataFrame"
     ],
     "language": "python",
     "metadata": {},
     "outputs": [],
     "prompt_number": 1
    },
    {
     "cell_type": "heading",
     "level": 3,
     "metadata": {},
     "source": [
      "Understanding Input Data File"
     ]
    },
    {
     "cell_type": "heading",
     "level": 4,
     "metadata": {},
     "source": [
      "Load training data of user7 and save as a dataframe.\n",
      "Check columns and unique values which has values of type string"
     ]
    },
    {
     "cell_type": "code",
     "collapsed": false,
     "input": [
      "path_user7 = '/home/venus/Desktop/Mouse-Dynamics-Challenge/training_files/user7'\n",
      "os.chdir(path_user7)\n",
      "df_list = []\n",
      "csv_file = glob.glob(\"session_*\")[0]\n",
      "print(\"Checking details for session file: \" + csv_file)\n",
      "df = pd.read_csv(csv_file, index_col=None, header=0)\n",
      "df.insert(0, \"Serial_no\", range(0,len(df.index.values)))\n",
      "print(\"_\"*100)\n",
      "print(\"Header fields\")\n",
      "print(df.columns.tolist())\n",
      "print(\"_\"*100)\n",
      "print(\"String values in column \\\"button\\\"\")\n",
      "print(df.button.unique())\n",
      "print(\"String values in column \\\"state\\\"\")\n",
      "print(df.state.unique())\n",
      "print(\"_\"*100)\n",
      "# print(df.describe(include = \"all\"))\n",
      "print(df.head(10))"
     ],
     "language": "python",
     "metadata": {},
     "outputs": [
      {
       "output_type": "stream",
       "stream": "stdout",
       "text": [
        "Checking details for session file: session_3320405034\n",
        "____________________________________________________________________________________________________"
       ]
      },
      {
       "output_type": "stream",
       "stream": "stdout",
       "text": [
        "\n",
        "Header fields\n",
        "['Serial_no', 'record timestamp', 'client timestamp', 'button', 'state', 'x', 'y']\n",
        "____________________________________________________________________________________________________\n",
        "String values in column \"button\"\n",
        "['NoButton' 'Left' 'Right' 'Scroll']\n",
        "String values in column \"state\"\n",
        "['Move' 'Pressed' 'Released' 'Drag' 'Up' 'Down']\n",
        "____________________________________________________________________________________________________\n",
        "   Serial_no  record timestamp  client timestamp    button     state   x    y\n",
        "0          0             0.000             0.000  NoButton      Move  88  551\n",
        "1          1             0.264             0.015  NoButton      Move  86  551\n",
        "2          2             0.265             0.031  NoButton      Move  85  551\n",
        "3          3             0.265             0.047  NoButton      Move  84  551\n",
        "4          4             0.265             0.078  NoButton      Move  82  552\n",
        "5          5             0.265             0.265      Left   Pressed  82  552\n",
        "6          6             0.358             0.359      Left  Released  82  552\n",
        "7          7             0.436             0.437      Left   Pressed  82  552\n",
        "8          8             0.528             0.530      Left  Released  82  552\n",
        "9          9             0.656             0.655  NoButton      Move  86  552\n"
       ]
      }
     ],
     "prompt_number": 13
    },
    {
     "cell_type": "heading",
     "level": 4,
     "metadata": {},
     "source": [
      "Mapping columns with string fields to integer values"
     ]
    },
    {
     "cell_type": "code",
     "collapsed": false,
     "input": [
      "di = {'NoButton': 0, 'Left': 1, 'Right': 2, 'Scroll' : 3}\n",
      "dj = {'Move': 0, 'Pressed': 1, 'Released' : 2, 'Drag' : 3, 'Up' : 4, 'Down' : 5}\n",
      "df[\"button\"].replace(di, inplace=True)\n",
      "df[\"state\"].replace(dj, inplace=True)\n",
      "print(df.head(10))\n",
      "# print(df.describe())"
     ],
     "language": "python",
     "metadata": {},
     "outputs": [
      {
       "output_type": "stream",
       "stream": "stdout",
       "text": [
        "   Serial_no  record timestamp  client timestamp  button  state   x    y\n",
        "0          0             0.000             0.000       0      0  88  551\n",
        "1          1             0.264             0.015       0      0  86  551\n",
        "2          2             0.265             0.031       0      0  85  551\n",
        "3          3             0.265             0.047       0      0  84  551\n",
        "4          4             0.265             0.078       0      0  82  552\n",
        "5          5             0.265             0.265       1      1  82  552\n",
        "6          6             0.358             0.359       1      2  82  552\n",
        "7          7             0.436             0.437       1      1  82  552\n",
        "8          8             0.528             0.530       1      2  82  552\n",
        "9          9             0.656             0.655       0      0  86  552\n"
       ]
      }
     ],
     "prompt_number": 14
    },
    {
     "cell_type": "heading",
     "level": 3,
     "metadata": {},
     "source": [
      "Feature Extraction"
     ]
    },
    {
     "cell_type": "heading",
     "level": 4,
     "metadata": {},
     "source": [
      "Sort data according to column 'client timestamp' then calculate time taken between mouse movements, speed of mouse movements, curvature and radius of curvature"
     ]
    },
    {
     "cell_type": "code",
     "collapsed": false,
     "input": [
      "df.sort_values(\"client timestamp\")\n",
      "df[\"delta_client_time\"] = df[\"client timestamp\"].diff(-1)\n",
      "df[\"delta_client_time\"] = df[\"delta_client_time\"].abs()\n",
      "df[\"delta_x\"] = df[\"x\"].diff(-1)\n",
      "df[\"delta_y\"] = df[\"y\"].diff(-1)\n",
      "df[\"delta_dist\"] = np.sqrt( (df[\"delta_x\"])**2 + (df[\"delta_y\"])**2 )\n",
      "df[\"mouse_speed\"] = df[\"delta_dist\"] / df[\"delta_client_time\"]\n",
      "df[\"mouse_speed\"] = df[\"mouse_speed\"].abs()\n",
      "df[\"slope\"] = df[\"delta_y\"] / df[\"delta_x\"]\n",
      "df[\"delta_slope\"] = df[\"slope\"].diff(-1)\n",
      "df[\"curvature\"] = df[\"delta_slope\"] / df[\"delta_x\"]\n",
      "df[\"curvature\"] = df[\"curvature\"].abs()\n",
      "df[\"radius_of_curvature\"] = 1 / df[\"curvature\"]"
     ],
     "language": "python",
     "metadata": {},
     "outputs": [],
     "prompt_number": 23
    },
    {
     "cell_type": "markdown",
     "metadata": {},
     "source": [
      "Note: The radius of curvature is important as if it has many values as infinity(inf), it means the mouse is moving in a perfectly straight line for longer periods, which is more likely a bot like behavior."
     ]
    },
    {
     "cell_type": "heading",
     "level": 4,
     "metadata": {},
     "source": [
      "Frequency of mouse clicks varying with client timestamp"
     ]
    },
    {
     "cell_type": "code",
     "collapsed": false,
     "input": [
      "df[\"clicks_so_far\"] = 0\n",
      "clicks_so_far = []\n",
      "for index, row in df.iterrows():\n",
      "    if index != 0:\n",
      "        clicks_so_far.append(clicks_so_far[-1] + (1 if row[\"button\"] != 0 else 0))\n",
      "    else:\n",
      "        clicks_so_far.append(1 if row[\"button\"] != 0 else 0)\n",
      "df['clicks_so_far'] = clicks_so_far\n",
      "df['click_frequency'] = df['clicks_so_far'] / df['client timestamp'] "
     ],
     "language": "python",
     "metadata": {},
     "outputs": [],
     "prompt_number": 24
    },
    {
     "cell_type": "code",
     "collapsed": false,
     "input": [
      "df.head(10)"
     ],
     "language": "python",
     "metadata": {},
     "outputs": [
      {
       "html": [
        "<div style=\"max-width:1500px;overflow:auto;\">\n",
        "<style>\n",
        "    .dataframe thead tr:only-child th {\n",
        "        text-align: right;\n",
        "    }\n",
        "\n",
        "    .dataframe thead th {\n",
        "        text-align: left;\n",
        "    }\n",
        "\n",
        "    .dataframe tbody tr th {\n",
        "        vertical-align: top;\n",
        "    }\n",
        "</style>\n",
        "<table border=\"1\" class=\"dataframe\">\n",
        "  <thead>\n",
        "    <tr style=\"text-align: right;\">\n",
        "      <th></th>\n",
        "      <th>Serial_no</th>\n",
        "      <th>record timestamp</th>\n",
        "      <th>client timestamp</th>\n",
        "      <th>button</th>\n",
        "      <th>state</th>\n",
        "      <th>x</th>\n",
        "      <th>y</th>\n",
        "      <th>delta_client_time</th>\n",
        "      <th>delta_x</th>\n",
        "      <th>delta_y</th>\n",
        "      <th>delta_dist</th>\n",
        "      <th>mouse_speed</th>\n",
        "      <th>slope</th>\n",
        "      <th>delta_slope</th>\n",
        "      <th>curvature</th>\n",
        "      <th>radius_of_curvature</th>\n",
        "      <th>clicks_so_far</th>\n",
        "      <th>click_frequency</th>\n",
        "    </tr>\n",
        "  </thead>\n",
        "  <tbody>\n",
        "    <tr>\n",
        "      <th>0</th>\n",
        "      <td>0</td>\n",
        "      <td>0.000</td>\n",
        "      <td>0.000</td>\n",
        "      <td>0</td>\n",
        "      <td>0</td>\n",
        "      <td>88</td>\n",
        "      <td>551</td>\n",
        "      <td>0.015</td>\n",
        "      <td>2.0</td>\n",
        "      <td>0.0</td>\n",
        "      <td>2.000000</td>\n",
        "      <td>133.333333</td>\n",
        "      <td>0.0</td>\n",
        "      <td>0.000000</td>\n",
        "      <td>0.000000</td>\n",
        "      <td>inf</td>\n",
        "      <td>0</td>\n",
        "      <td>NaN</td>\n",
        "    </tr>\n",
        "    <tr>\n",
        "      <th>1</th>\n",
        "      <td>1</td>\n",
        "      <td>0.264</td>\n",
        "      <td>0.015</td>\n",
        "      <td>0</td>\n",
        "      <td>0</td>\n",
        "      <td>86</td>\n",
        "      <td>551</td>\n",
        "      <td>0.016</td>\n",
        "      <td>1.0</td>\n",
        "      <td>0.0</td>\n",
        "      <td>1.000000</td>\n",
        "      <td>62.500000</td>\n",
        "      <td>0.0</td>\n",
        "      <td>0.000000</td>\n",
        "      <td>0.000000</td>\n",
        "      <td>inf</td>\n",
        "      <td>0</td>\n",
        "      <td>0.000000</td>\n",
        "    </tr>\n",
        "    <tr>\n",
        "      <th>2</th>\n",
        "      <td>2</td>\n",
        "      <td>0.265</td>\n",
        "      <td>0.031</td>\n",
        "      <td>0</td>\n",
        "      <td>0</td>\n",
        "      <td>85</td>\n",
        "      <td>551</td>\n",
        "      <td>0.016</td>\n",
        "      <td>1.0</td>\n",
        "      <td>0.0</td>\n",
        "      <td>1.000000</td>\n",
        "      <td>62.500000</td>\n",
        "      <td>0.0</td>\n",
        "      <td>0.500000</td>\n",
        "      <td>0.500000</td>\n",
        "      <td>2.000000</td>\n",
        "      <td>0</td>\n",
        "      <td>0.000000</td>\n",
        "    </tr>\n",
        "    <tr>\n",
        "      <th>3</th>\n",
        "      <td>3</td>\n",
        "      <td>0.265</td>\n",
        "      <td>0.047</td>\n",
        "      <td>0</td>\n",
        "      <td>0</td>\n",
        "      <td>84</td>\n",
        "      <td>551</td>\n",
        "      <td>0.031</td>\n",
        "      <td>2.0</td>\n",
        "      <td>-1.0</td>\n",
        "      <td>2.236068</td>\n",
        "      <td>72.131225</td>\n",
        "      <td>-0.5</td>\n",
        "      <td>NaN</td>\n",
        "      <td>NaN</td>\n",
        "      <td>NaN</td>\n",
        "      <td>0</td>\n",
        "      <td>0.000000</td>\n",
        "    </tr>\n",
        "    <tr>\n",
        "      <th>4</th>\n",
        "      <td>4</td>\n",
        "      <td>0.265</td>\n",
        "      <td>0.078</td>\n",
        "      <td>0</td>\n",
        "      <td>0</td>\n",
        "      <td>82</td>\n",
        "      <td>552</td>\n",
        "      <td>0.187</td>\n",
        "      <td>0.0</td>\n",
        "      <td>0.0</td>\n",
        "      <td>0.000000</td>\n",
        "      <td>0.000000</td>\n",
        "      <td>NaN</td>\n",
        "      <td>NaN</td>\n",
        "      <td>NaN</td>\n",
        "      <td>NaN</td>\n",
        "      <td>0</td>\n",
        "      <td>0.000000</td>\n",
        "    </tr>\n",
        "    <tr>\n",
        "      <th>5</th>\n",
        "      <td>5</td>\n",
        "      <td>0.265</td>\n",
        "      <td>0.265</td>\n",
        "      <td>1</td>\n",
        "      <td>1</td>\n",
        "      <td>82</td>\n",
        "      <td>552</td>\n",
        "      <td>0.094</td>\n",
        "      <td>0.0</td>\n",
        "      <td>0.0</td>\n",
        "      <td>0.000000</td>\n",
        "      <td>0.000000</td>\n",
        "      <td>NaN</td>\n",
        "      <td>NaN</td>\n",
        "      <td>NaN</td>\n",
        "      <td>NaN</td>\n",
        "      <td>1</td>\n",
        "      <td>3.773585</td>\n",
        "    </tr>\n",
        "    <tr>\n",
        "      <th>6</th>\n",
        "      <td>6</td>\n",
        "      <td>0.358</td>\n",
        "      <td>0.359</td>\n",
        "      <td>1</td>\n",
        "      <td>2</td>\n",
        "      <td>82</td>\n",
        "      <td>552</td>\n",
        "      <td>0.078</td>\n",
        "      <td>0.0</td>\n",
        "      <td>0.0</td>\n",
        "      <td>0.000000</td>\n",
        "      <td>0.000000</td>\n",
        "      <td>NaN</td>\n",
        "      <td>NaN</td>\n",
        "      <td>NaN</td>\n",
        "      <td>NaN</td>\n",
        "      <td>2</td>\n",
        "      <td>5.571031</td>\n",
        "    </tr>\n",
        "    <tr>\n",
        "      <th>7</th>\n",
        "      <td>7</td>\n",
        "      <td>0.436</td>\n",
        "      <td>0.437</td>\n",
        "      <td>1</td>\n",
        "      <td>1</td>\n",
        "      <td>82</td>\n",
        "      <td>552</td>\n",
        "      <td>0.093</td>\n",
        "      <td>0.0</td>\n",
        "      <td>0.0</td>\n",
        "      <td>0.000000</td>\n",
        "      <td>0.000000</td>\n",
        "      <td>NaN</td>\n",
        "      <td>NaN</td>\n",
        "      <td>NaN</td>\n",
        "      <td>NaN</td>\n",
        "      <td>3</td>\n",
        "      <td>6.864989</td>\n",
        "    </tr>\n",
        "    <tr>\n",
        "      <th>8</th>\n",
        "      <td>8</td>\n",
        "      <td>0.528</td>\n",
        "      <td>0.530</td>\n",
        "      <td>1</td>\n",
        "      <td>2</td>\n",
        "      <td>82</td>\n",
        "      <td>552</td>\n",
        "      <td>0.125</td>\n",
        "      <td>-4.0</td>\n",
        "      <td>0.0</td>\n",
        "      <td>4.000000</td>\n",
        "      <td>32.000000</td>\n",
        "      <td>-0.0</td>\n",
        "      <td>0.400000</td>\n",
        "      <td>0.100000</td>\n",
        "      <td>10.000000</td>\n",
        "      <td>4</td>\n",
        "      <td>7.547170</td>\n",
        "    </tr>\n",
        "    <tr>\n",
        "      <th>9</th>\n",
        "      <td>9</td>\n",
        "      <td>0.656</td>\n",
        "      <td>0.655</td>\n",
        "      <td>0</td>\n",
        "      <td>0</td>\n",
        "      <td>86</td>\n",
        "      <td>552</td>\n",
        "      <td>0.016</td>\n",
        "      <td>-5.0</td>\n",
        "      <td>2.0</td>\n",
        "      <td>5.385165</td>\n",
        "      <td>336.572802</td>\n",
        "      <td>-0.4</td>\n",
        "      <td>0.044444</td>\n",
        "      <td>0.008889</td>\n",
        "      <td>112.500000</td>\n",
        "      <td>4</td>\n",
        "      <td>6.106870</td>\n",
        "    </tr>\n",
        "  </tbody>\n",
        "</table>\n",
        "</div>"
       ],
       "metadata": {},
       "output_type": "pyout",
       "prompt_number": 25,
       "text": [
        "   Serial_no  record timestamp  client timestamp  button  state   x    y  \\\n",
        "0          0             0.000             0.000       0      0  88  551   \n",
        "1          1             0.264             0.015       0      0  86  551   \n",
        "2          2             0.265             0.031       0      0  85  551   \n",
        "3          3             0.265             0.047       0      0  84  551   \n",
        "4          4             0.265             0.078       0      0  82  552   \n",
        "5          5             0.265             0.265       1      1  82  552   \n",
        "6          6             0.358             0.359       1      2  82  552   \n",
        "7          7             0.436             0.437       1      1  82  552   \n",
        "8          8             0.528             0.530       1      2  82  552   \n",
        "9          9             0.656             0.655       0      0  86  552   \n",
        "\n",
        "   delta_client_time  delta_x  delta_y  delta_dist  mouse_speed  slope  \\\n",
        "0              0.015      2.0      0.0    2.000000   133.333333    0.0   \n",
        "1              0.016      1.0      0.0    1.000000    62.500000    0.0   \n",
        "2              0.016      1.0      0.0    1.000000    62.500000    0.0   \n",
        "3              0.031      2.0     -1.0    2.236068    72.131225   -0.5   \n",
        "4              0.187      0.0      0.0    0.000000     0.000000    NaN   \n",
        "5              0.094      0.0      0.0    0.000000     0.000000    NaN   \n",
        "6              0.078      0.0      0.0    0.000000     0.000000    NaN   \n",
        "7              0.093      0.0      0.0    0.000000     0.000000    NaN   \n",
        "8              0.125     -4.0      0.0    4.000000    32.000000   -0.0   \n",
        "9              0.016     -5.0      2.0    5.385165   336.572802   -0.4   \n",
        "\n",
        "   delta_slope  curvature  radius_of_curvature  clicks_so_far  click_frequency  \n",
        "0     0.000000   0.000000                  inf              0              NaN  \n",
        "1     0.000000   0.000000                  inf              0         0.000000  \n",
        "2     0.500000   0.500000             2.000000              0         0.000000  \n",
        "3          NaN        NaN                  NaN              0         0.000000  \n",
        "4          NaN        NaN                  NaN              0         0.000000  \n",
        "5          NaN        NaN                  NaN              1         3.773585  \n",
        "6          NaN        NaN                  NaN              2         5.571031  \n",
        "7          NaN        NaN                  NaN              3         6.864989  \n",
        "8     0.400000   0.100000            10.000000              4         7.547170  \n",
        "9     0.044444   0.008889           112.500000              4         6.106870  "
       ]
      }
     ],
     "prompt_number": 25
    },
    {
     "cell_type": "heading",
     "level": 4,
     "metadata": {},
     "source": [
      "Visualizing features"
     ]
    },
    {
     "cell_type": "code",
     "collapsed": false,
     "input": [
      "df1 = df.dropna()\n",
      "plt.scatter(df1['client timestamp'], df1['click_frequency'])\n",
      "plt.show()"
     ],
     "language": "python",
     "metadata": {},
     "outputs": [
      {
       "metadata": {},
       "output_type": "display_data",
       "png": "[encoded data removed]",
       "text": [
        "<matplotlib.figure.Figure at 0x7faf4c69d0f0>"
       ]
      }
     ],
     "prompt_number": 26
    },
    {
     "cell_type": "code",
     "collapsed": false,
     "input": [
      "plt.scatter(df1['Serial_no'], df1['mouse_speed'])\n",
      "plt.show()"
     ],
     "language": "python",
     "metadata": {},
     "outputs": [
      {
       "metadata": {},
       "output_type": "display_data",
       "png": "[encoded data removed]",
       "text": [
        "<matplotlib.figure.Figure at 0x7faf4c55de80>"
       ]
      }
     ],
     "prompt_number": 27
    },
    {
     "cell_type": "code",
     "collapsed": false,
     "input": [
      "plt.scatter(df1['Serial_no'], df1['radius_of_curvature'])\n",
      "plt.show()"
     ],
     "language": "python",
     "metadata": {},
     "outputs": [
      {
       "metadata": {},
       "output_type": "display_data",
       "png": "[encoded data removed]",
       "text": [
        "<matplotlib.figure.Figure at 0x7faf4c655c18>"
       ]
      }
     ],
     "prompt_number": 29
    },
    {
     "cell_type": "code",
     "collapsed": false,
     "input": [
      "# for csv_file in glob.glob(\"session_*\"):\n",
      "#     print(csv_file)\n",
      "#     df = pd.read_csv(csv_file, index_col=None, header=0)\n",
      "#     break\n",
      "\n",
      "# rows = df[\"x\"].count()\n",
      "# print(rows)\n",
      "# # df.loc[[i for j, i in enumerate(df.index) if j % 10 == 0]]\n",
      "# for i in range(2, rows, 200):\n",
      "#     df2 = df.head(i)\n",
      "#     df2.plot(x='x', y='y', marker='.')"
     ],
     "language": "python",
     "metadata": {},
     "outputs": [],
     "prompt_number": 28
    },
    {
     "cell_type": "code",
     "collapsed": false,
     "input": [],
     "language": "python",
     "metadata": {},
     "outputs": []
    }
   ],
   "metadata": {}
  }
 ]
}